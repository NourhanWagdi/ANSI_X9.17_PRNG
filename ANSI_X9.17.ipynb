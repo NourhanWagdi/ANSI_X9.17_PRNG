{
  "nbformat": 4,
  "nbformat_minor": 0,
  "metadata": {
    "colab": {
      "name": "Crypto_Assign2_ANSI.ipynb",
      "provenance": [],
      "collapsed_sections": []
    },
    "kernelspec": {
      "name": "python3",
      "display_name": "Python 3"
    },
    "language_info": {
      "name": "python"
    }
  },
  "cells": [
    {
      "cell_type": "code",
      "metadata": {
        "id": "iTYiHrbFT15v"
      },
      "source": [
        "#!pip install pycrypto\n",
        "#!pip install pycryptodome"
      ],
      "execution_count": 31,
      "outputs": []
    },
    {
      "cell_type": "code",
      "metadata": {
        "id": "H8Ksad_FTscq"
      },
      "source": [
        "import sys\n",
        "from itertools import islice\n",
        "from Crypto.Cipher import DES3\n",
        "from Crypto.Random import get_random_bytes\n",
        "import time\n",
        "from Crypto.Util.strxor import strxor\n",
        "import struct"
      ],
      "execution_count": 32,
      "outputs": []
    },
    {
      "cell_type": "code",
      "metadata": {
        "id": "gIlbYSKid2sC"
      },
      "source": [
        "def get_num(des3, V):\n",
        "    EDT = des3.encrypt(hex(int(time.time()) *10**6)[-8:].encode('ascii'))\n",
        "    R = des3.encrypt(strxor(V, EDT))\n",
        "    V = des3.encrypt(strxor(R, EDT))\n",
        "    return int(struct.unpack('L', R)[0]), V"
      ],
      "execution_count": 33,
      "outputs": []
    },
    {
      "cell_type": "code",
      "metadata": {
        "id": "RhpCsnW2d4-K"
      },
      "source": [
        "def ansi_x9_17(V, key, count):\n",
        "  des3 = DES3.new(key, DES3.MODE_ECB)\t\n",
        "  for _ in range(count):\n",
        "    R, V = get_num(des3, V)\n",
        "    print(R)"
      ],
      "execution_count": 34,
      "outputs": []
    },
    {
      "cell_type": "code",
      "metadata": {
        "id": "xnLIboO7Txuk"
      },
      "source": [
        "def main(count=5):\n",
        "\tseed = 'THISSEED'.encode('ascii')\n",
        "\tkey = 'HELL0!THISTHEKEY'.encode('ascii')\n",
        "\tcount = count\n",
        "\tansi_x9_17(seed, key, count)"
      ],
      "execution_count": 35,
      "outputs": []
    },
    {
      "cell_type": "code",
      "metadata": {
        "id": "c37R3OrDgJAZ",
        "colab": {
          "base_uri": "https://localhost:8080/"
        },
        "outputId": "7bab0de1-0573-41d9-b919-c4d7f5544201"
      },
      "source": [
        "main(count=5)"
      ],
      "execution_count": 36,
      "outputs": [
        {
          "output_type": "stream",
          "name": "stdout",
          "text": [
            "9199537259911320239\n",
            "8924245488099989372\n",
            "10430119854919186292\n",
            "4555780670981617608\n",
            "3703236236066147182\n"
          ]
        }
      ]
    }
  ]
}